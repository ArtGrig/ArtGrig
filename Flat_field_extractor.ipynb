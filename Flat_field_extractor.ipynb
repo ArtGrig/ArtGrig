{
  "nbformat": 4,
  "nbformat_minor": 0,
  "metadata": {
    "colab": {
      "name": "Flat-field_extractor.ipynb",
      "provenance": [],
      "authorship_tag": "ABX9TyNj4V5G6PjfQrgpa4DyG8v1"
    },
    "kernelspec": {
      "name": "python3",
      "display_name": "Python 3"
    },
    "language_info": {
      "name": "python"
    }
  },
  "cells": [
    {
      "cell_type": "markdown",
      "source": [
        "# Библиотеки"
      ],
      "metadata": {
        "id": "zq6sG268321T"
      }
    },
    {
      "cell_type": "code",
      "execution_count": 1,
      "metadata": {
        "id": "pPJwcEBy3sHl"
      },
      "outputs": [],
      "source": [
        "import numpy as np\n",
        "import matplotlib.pyplot as plt\n",
        "import tensorflow as tf\n",
        "import os\n",
        "from keras.models import Model, Input\n",
        "from keras.layers import Conv2D, Conv2DTranspose, LeakyReLU, Activation, Concatenate, Dropout, BatchNormalization"
      ]
    },
    {
      "cell_type": "markdown",
      "source": [
        "# Загрузка данных"
      ],
      "metadata": {
        "id": "H5rvgAEC4fnn"
      }
    },
    {
      "cell_type": "code",
      "source": [],
      "metadata": {
        "id": "pghGQj1o4bxq"
      },
      "execution_count": null,
      "outputs": []
    }
  ]
}